{
 "cells": [
  {
   "cell_type": "markdown",
   "metadata": {},
   "source": [
    "# Assignment Day 9"
   ]
  },
  {
   "cell_type": "markdown",
   "metadata": {},
   "source": [
    "Question - 1: \n",
    "    Write a python Function for finding is a given number prime or not and do Unit Testing on it using\n",
    "PyLint and Unittest Library."
   ]
  },
  {
   "cell_type": "code",
   "execution_count": 17,
   "metadata": {},
   "outputs": [
    {
     "name": "stdout",
     "output_type": "stream",
     "text": [
      "Overwriting n_check_prime.py\n"
     ]
    }
   ],
   "source": [
    "%%writefile n_check_prime.py\n",
    "'''\n",
    "This file contains a function to check the prime number\n",
    "'''\n",
    "def fun_check_prime(number):\n",
    "    '''\n",
    "    This is the function which checks if a number is prime or not\n",
    "    '''\n",
    "    if number%2 != 0 and number%3 != 0 and number%5 !=0  and number%7 != 0:\n",
    "        print(f\"{number} is a prime number\")\n",
    "    else:\n",
    "        print(f\"{number} is not a prime number\")"
   ]
  },
  {
   "cell_type": "code",
   "execution_count": 18,
   "metadata": {},
   "outputs": [
    {
     "name": "stdout",
     "output_type": "stream",
     "text": [
      "5 is a prime number\n"
     ]
    }
   ],
   "source": [
    "import n_check_prime\n",
    "n_check_prime.fun_check_prime(5)"
   ]
  },
  {
   "cell_type": "code",
   "execution_count": 21,
   "metadata": {},
   "outputs": [
    {
     "name": "stdout",
     "output_type": "stream",
     "text": [
      "\r\n",
      "------------------------------------\r\n",
      "Your code has been rated at 10.00/10\r\n",
      "\r\n"
     ]
    }
   ],
   "source": [
    "! pylint n_check_prime"
   ]
  },
  {
   "cell_type": "code",
   "execution_count": 25,
   "metadata": {},
   "outputs": [
    {
     "name": "stdout",
     "output_type": "stream",
     "text": [
      "Overwriting unittestprime.py\n"
     ]
    }
   ],
   "source": [
    "%%writefile unittestprime.py\n",
    "import unittest\n",
    "import n_check_prime\n",
    "\n",
    "class testprime(unittest.TestCase):\n",
    "    def testingprime(self):\n",
    "        number = 19\n",
    "        result = n_check_prime.fun_check_prime(number)\n",
    "        self.assertEqual(result, \"19 is a prime number\")\n",
    "        \n",
    "    def testingnonprime(self):\n",
    "        number = 20\n",
    "        result = n_check_prime.fun_check_prime(number)\n",
    "        self.assertEqual(result, \"20 is not a prime number\")\n",
    "    \n",
    "if __name__ == \"__main__\":\n",
    "    unittest.main()"
   ]
  },
  {
   "cell_type": "code",
   "execution_count": 26,
   "metadata": {},
   "outputs": [
    {
     "name": "stdout",
     "output_type": "stream",
     "text": [
      "20 is not a prime number\r\n",
      "F19 is a prime number\r\n",
      "F\r\n",
      "======================================================================\r\n",
      "FAIL: testingnonprime (__main__.testprime)\r\n",
      "----------------------------------------------------------------------\r\n",
      "Traceback (most recent call last):\r\n",
      "  File \"unittestprime.py\", line 13, in testingnonprime\r\n",
      "    self.assertEqual(result, \"20 is not a prime number\")\r\n",
      "AssertionError: None != '20 is not a prime number'\r\n",
      "\r\n",
      "======================================================================\r\n",
      "FAIL: testingprime (__main__.testprime)\r\n",
      "----------------------------------------------------------------------\r\n",
      "Traceback (most recent call last):\r\n",
      "  File \"unittestprime.py\", line 8, in testingprime\r\n",
      "    self.assertEqual(result, \"19 is a prime number\")\r\n",
      "AssertionError: None != '19 is a prime number'\r\n",
      "\r\n",
      "----------------------------------------------------------------------\r\n",
      "Ran 2 tests in 0.005s\r\n",
      "\r\n",
      "FAILED (failures=2)\r\n"
     ]
    }
   ],
   "source": [
    "! python unittestprime.py"
   ]
  },
  {
   "cell_type": "markdown",
   "metadata": {},
   "source": [
    "--------------------------------------------------------------------------------------------------------------------------------"
   ]
  },
  {
   "cell_type": "markdown",
   "metadata": {},
   "source": [
    "Question - 2: \n",
    "    Make a small generator program for returning armstrong numbers in between 1-1000 in a\n",
    "generator object."
   ]
  },
  {
   "cell_type": "code",
   "execution_count": 32,
   "metadata": {},
   "outputs": [
    {
     "data": {
      "text/plain": [
       "['123']"
      ]
     },
     "execution_count": 32,
     "metadata": {},
     "output_type": "execute_result"
    }
   ],
   "source": [
    "a = 123\n",
    "str(a).split()"
   ]
  },
  {
   "cell_type": "code",
   "execution_count": 37,
   "metadata": {},
   "outputs": [],
   "source": [
    "def get_armstrong(lst):\n",
    "    for i in lst:\n",
    "        sepertlst=[int(j) for j in str(i)]\n",
    "        if sum([k**3 for k in sepertlst])==i:\n",
    "            yield i"
   ]
  },
  {
   "cell_type": "code",
   "execution_count": 38,
   "metadata": {},
   "outputs": [
    {
     "name": "stdout",
     "output_type": "stream",
     "text": [
      "[0, 1, 153, 370, 371, 407]\n"
     ]
    }
   ],
   "source": [
    "print(list(get_armstrong(range(1000))))"
   ]
  }
 ],
 "metadata": {
  "kernelspec": {
   "display_name": "Python 3",
   "language": "python",
   "name": "python3"
  },
  "language_info": {
   "codemirror_mode": {
    "name": "ipython",
    "version": 3
   },
   "file_extension": ".py",
   "mimetype": "text/x-python",
   "name": "python",
   "nbconvert_exporter": "python",
   "pygments_lexer": "ipython3",
   "version": "3.6.11"
  }
 },
 "nbformat": 4,
 "nbformat_minor": 4
}
